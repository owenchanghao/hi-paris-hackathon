{
 "cells": [
  {
   "cell_type": "code",
   "execution_count": null,
   "id": "047019b7-dfcc-4237-8df4-2dda61b75f66",
   "metadata": {},
   "outputs": [],
   "source": [
    "pip install xgboost lightgbm"
   ]
  },
  {
   "cell_type": "code",
   "execution_count": null,
   "id": "080bb665-b21f-4204-9232-ac64ce706018",
   "metadata": {},
   "outputs": [],
   "source": [
    "from sklearn.ensemble import StackingRegressor\n",
    "from sklearn.linear_model import ElasticNet\n",
    "from lightgbm import LGBMRegressor\n",
    "from sklearn.pipeline import make_pipeline\n",
    "from sklearn.preprocessing import StandardScaler\n",
    "from xgboost import XGBRegressor\n",
    "from lightgbm import LGBMRegressor"
   ]
  },
  {
   "cell_type": "code",
   "execution_count": null,
   "id": "d10e0550-fbe0-4df6-b187-273cdd093da2",
   "metadata": {},
   "outputs": [],
   "source": [
    "best_config_xgb = {'colsample_bytree': 0.8, 'gamma': 0.4, 'learning_rate': 0.012, 'max_depth': 8, 'min_child_weight': 5, 'n_estimators': 250, 'reg_alpha': 0, 'reg_lambda': 1.0, 'scale_pos_weight': 3, 'subsample': 0.68}\n",
    "best_config_lgbm = {'colsample_bytree': 0.7170644193332939, 'learning_rate': 0.03412358349737991, 'max_depth': 10, 'n_estimators': 153, 'num_leaves': 33, 'reg_alpha': 0.11878116785878495, 'subsample': 0.8781268957112172}\n",
    "best_elastic_search = {'max_iter': 1000, 'l1_ratio': 0.7, 'fit_intercept': True, 'alpha': 0.1}\n",
    "best_meta = {'l1_ratio': 0.7, 'alpha': 5.0}\n",
    "# Define base models\n",
    "base_models = [\n",
    "    ('elastic_net', make_pipeline(StandardScaler(), ElasticNet(**best_elastic_search))),\n",
    "    ('xgb', XGBRegressor(**best_config_xgb)),\n",
    "    ('lgbm', LGBMRegressor(**best_config_lgbm))\n",
    "]\n",
    "# Initialize StackingRegressor\n",
    "stacking_regressor = StackingRegressor(estimators=base_models, final_estimator=ElasticNet(**best_meta))\n",
    "\n",
    "stacking_regressor.fit(X_train, y_train['Month 4'].values)"
   ]
  },
  {
   "cell_type": "markdown",
   "id": "8204279d-1e60-4a44-8173-21d7e9c8e116",
   "metadata": {},
   "source": [
    "# Submission"
   ]
  },
  {
   "cell_type": "code",
   "execution_count": 64,
   "id": "0830bedf-b522-4140-a193-5e1a9dd59e9c",
   "metadata": {
    "tags": []
   },
   "outputs": [
    {
     "name": "stdout",
     "output_type": "stream",
     "text": [
      "[LightGBM] [Warning] Accuracy may be bad since you didn't explicitly set num_leaves OR 2^max_depth > num_leaves. (num_leaves=31).\n"
     ]
    }
   ],
   "source": [
    "y_pred = stacking_regressor.predict(X_test)"
   ]
  },
  {
   "cell_type": "code",
   "execution_count": 65,
   "id": "eb8e3590-8d66-4df5-9514-1cb11d64ceb7",
   "metadata": {
    "tags": []
   },
   "outputs": [
    {
     "data": {
      "text/html": [
       "<div>\n",
       "<style scoped>\n",
       "    .dataframe tbody tr th:only-of-type {\n",
       "        vertical-align: middle;\n",
       "    }\n",
       "\n",
       "    .dataframe tbody tr th {\n",
       "        vertical-align: top;\n",
       "    }\n",
       "\n",
       "    .dataframe thead th {\n",
       "        text-align: right;\n",
       "    }\n",
       "</style>\n",
       "<table border=\"1\" class=\"dataframe\">\n",
       "  <thead>\n",
       "    <tr style=\"text-align: right;\">\n",
       "      <th></th>\n",
       "      <th>index</th>\n",
       "      <th>Month 4</th>\n",
       "    </tr>\n",
       "  </thead>\n",
       "  <tbody>\n",
       "    <tr>\n",
       "      <th>0</th>\n",
       "      <td>490548</td>\n",
       "      <td>4169.451837</td>\n",
       "    </tr>\n",
       "    <tr>\n",
       "      <th>1</th>\n",
       "      <td>2167957</td>\n",
       "      <td>0.300267</td>\n",
       "    </tr>\n",
       "    <tr>\n",
       "      <th>2</th>\n",
       "      <td>1999013</td>\n",
       "      <td>2.131073</td>\n",
       "    </tr>\n",
       "    <tr>\n",
       "      <th>3</th>\n",
       "      <td>469221</td>\n",
       "      <td>354.745346</td>\n",
       "    </tr>\n",
       "    <tr>\n",
       "      <th>4</th>\n",
       "      <td>1171716</td>\n",
       "      <td>0.326570</td>\n",
       "    </tr>\n",
       "    <tr>\n",
       "      <th>...</th>\n",
       "      <td>...</td>\n",
       "      <td>...</td>\n",
       "    </tr>\n",
       "    <tr>\n",
       "      <th>440738</th>\n",
       "      <td>849490</td>\n",
       "      <td>1.034734</td>\n",
       "    </tr>\n",
       "    <tr>\n",
       "      <th>440739</th>\n",
       "      <td>1199858</td>\n",
       "      <td>0.394458</td>\n",
       "    </tr>\n",
       "    <tr>\n",
       "      <th>440740</th>\n",
       "      <td>1007643</td>\n",
       "      <td>0.315126</td>\n",
       "    </tr>\n",
       "    <tr>\n",
       "      <th>440741</th>\n",
       "      <td>1647728</td>\n",
       "      <td>0.326570</td>\n",
       "    </tr>\n",
       "    <tr>\n",
       "      <th>440742</th>\n",
       "      <td>181981</td>\n",
       "      <td>1.046179</td>\n",
       "    </tr>\n",
       "  </tbody>\n",
       "</table>\n",
       "<p>440743 rows × 2 columns</p>\n",
       "</div>"
      ],
      "text/plain": [
       "          index      Month 4\n",
       "0        490548  4169.451837\n",
       "1       2167957     0.300267\n",
       "2       1999013     2.131073\n",
       "3        469221   354.745346\n",
       "4       1171716     0.326570\n",
       "...         ...          ...\n",
       "440738   849490     1.034734\n",
       "440739  1199858     0.394458\n",
       "440740  1007643     0.315126\n",
       "440741  1647728     0.326570\n",
       "440742   181981     1.046179\n",
       "\n",
       "[440743 rows x 2 columns]"
      ]
     },
     "execution_count": 65,
     "metadata": {},
     "output_type": "execute_result"
    }
   ],
   "source": [
    "submission = pd.read_csv(\"y_test_example.csv\", sep = \";\")\n",
    "submission['Month 4'] = y_pred\n",
    "submission['Month 4'] = submission['Month 4'].apply(lambda x: np.max([0, x]))\n",
    "submission"
   ]
  },
  {
   "cell_type": "code",
   "execution_count": 69,
   "id": "f0dee6bc-f2a2-4016-b232-cd02dcd6340c",
   "metadata": {
    "tags": []
   },
   "outputs": [],
   "source": [
    "submission.to_csv(\"submission.csv\", sep = \";\", index = False)"
   ]
  }
 ],
 "metadata": {
  "kernelspec": {
   "display_name": "Python 3 (ipykernel)",
   "language": "python",
   "name": "python3"
  },
  "language_info": {
   "codemirror_mode": {
    "name": "ipython",
    "version": 3
   },
   "file_extension": ".py",
   "mimetype": "text/x-python",
   "name": "python",
   "nbconvert_exporter": "python",
   "pygments_lexer": "ipython3",
   "version": "3.10.12"
  }
 },
 "nbformat": 4,
 "nbformat_minor": 5
}
